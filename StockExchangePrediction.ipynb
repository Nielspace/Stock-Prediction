{
 "cells": [
  {
   "cell_type": "code",
   "execution_count": 1,
   "metadata": {},
   "outputs": [],
   "source": [
    "import pandas as pd\n",
    "%matplotlib inline"
   ]
  },
  {
   "cell_type": "code",
   "execution_count": 2,
   "metadata": {},
   "outputs": [],
   "source": [
    "data = pd.read_csv('data/FINAL_FROM_DF.csv')"
   ]
  },
  {
   "cell_type": "code",
   "execution_count": 3,
   "metadata": {},
   "outputs": [
    {
     "data": {
      "text/html": [
       "<div>\n",
       "<style scoped>\n",
       "    .dataframe tbody tr th:only-of-type {\n",
       "        vertical-align: middle;\n",
       "    }\n",
       "\n",
       "    .dataframe tbody tr th {\n",
       "        vertical-align: top;\n",
       "    }\n",
       "\n",
       "    .dataframe thead th {\n",
       "        text-align: right;\n",
       "    }\n",
       "</style>\n",
       "<table border=\"1\" class=\"dataframe\">\n",
       "  <thead>\n",
       "    <tr style=\"text-align: right;\">\n",
       "      <th></th>\n",
       "      <th>SYMBOL</th>\n",
       "      <th>SERIES</th>\n",
       "      <th>OPEN</th>\n",
       "      <th>HIGH</th>\n",
       "      <th>LOW</th>\n",
       "      <th>CLOSE</th>\n",
       "      <th>LAST</th>\n",
       "      <th>PREVCLOSE</th>\n",
       "      <th>TOTTRDQTY</th>\n",
       "      <th>TOTTRDVAL</th>\n",
       "      <th>TIMESTAMP</th>\n",
       "      <th>TOTALTRADES</th>\n",
       "      <th>ISIN</th>\n",
       "    </tr>\n",
       "  </thead>\n",
       "  <tbody>\n",
       "    <tr>\n",
       "      <th>0</th>\n",
       "      <td>20MICRONS</td>\n",
       "      <td>EQ</td>\n",
       "      <td>37.80</td>\n",
       "      <td>37.80</td>\n",
       "      <td>36.15</td>\n",
       "      <td>36.85</td>\n",
       "      <td>37.40</td>\n",
       "      <td>37.05</td>\n",
       "      <td>27130</td>\n",
       "      <td>994657.90</td>\n",
       "      <td>2017-06-28</td>\n",
       "      <td>202</td>\n",
       "      <td>INE144J01027</td>\n",
       "    </tr>\n",
       "    <tr>\n",
       "      <th>1</th>\n",
       "      <td>3IINFOTECH</td>\n",
       "      <td>EQ</td>\n",
       "      <td>4.10</td>\n",
       "      <td>4.85</td>\n",
       "      <td>4.00</td>\n",
       "      <td>4.55</td>\n",
       "      <td>4.65</td>\n",
       "      <td>4.05</td>\n",
       "      <td>20157058</td>\n",
       "      <td>92148517.65</td>\n",
       "      <td>2017-06-28</td>\n",
       "      <td>7353</td>\n",
       "      <td>INE748C01020</td>\n",
       "    </tr>\n",
       "    <tr>\n",
       "      <th>2</th>\n",
       "      <td>3MINDIA</td>\n",
       "      <td>EQ</td>\n",
       "      <td>13425.15</td>\n",
       "      <td>13469.55</td>\n",
       "      <td>12920.00</td>\n",
       "      <td>13266.70</td>\n",
       "      <td>13300.00</td>\n",
       "      <td>13460.55</td>\n",
       "      <td>2290</td>\n",
       "      <td>30304923.35</td>\n",
       "      <td>2017-06-28</td>\n",
       "      <td>748</td>\n",
       "      <td>INE470A01017</td>\n",
       "    </tr>\n",
       "    <tr>\n",
       "      <th>3</th>\n",
       "      <td>63MOONS</td>\n",
       "      <td>EQ</td>\n",
       "      <td>61.00</td>\n",
       "      <td>61.90</td>\n",
       "      <td>60.35</td>\n",
       "      <td>61.00</td>\n",
       "      <td>61.10</td>\n",
       "      <td>60.65</td>\n",
       "      <td>27701</td>\n",
       "      <td>1689421.00</td>\n",
       "      <td>2017-06-28</td>\n",
       "      <td>437</td>\n",
       "      <td>INE111B01023</td>\n",
       "    </tr>\n",
       "    <tr>\n",
       "      <th>4</th>\n",
       "      <td>8KMILES</td>\n",
       "      <td>EQ</td>\n",
       "      <td>546.10</td>\n",
       "      <td>548.00</td>\n",
       "      <td>535.00</td>\n",
       "      <td>537.45</td>\n",
       "      <td>535.20</td>\n",
       "      <td>547.45</td>\n",
       "      <td>79722</td>\n",
       "      <td>43208620.05</td>\n",
       "      <td>2017-06-28</td>\n",
       "      <td>1866</td>\n",
       "      <td>INE650K01021</td>\n",
       "    </tr>\n",
       "  </tbody>\n",
       "</table>\n",
       "</div>"
      ],
      "text/plain": [
       "       SYMBOL SERIES      OPEN      HIGH       LOW     CLOSE      LAST  \\\n",
       "0   20MICRONS     EQ     37.80     37.80     36.15     36.85     37.40   \n",
       "1  3IINFOTECH     EQ      4.10      4.85      4.00      4.55      4.65   \n",
       "2     3MINDIA     EQ  13425.15  13469.55  12920.00  13266.70  13300.00   \n",
       "3     63MOONS     EQ     61.00     61.90     60.35     61.00     61.10   \n",
       "4     8KMILES     EQ    546.10    548.00    535.00    537.45    535.20   \n",
       "\n",
       "   PREVCLOSE  TOTTRDQTY    TOTTRDVAL   TIMESTAMP  TOTALTRADES          ISIN  \n",
       "0      37.05      27130    994657.90  2017-06-28          202  INE144J01027  \n",
       "1       4.05   20157058  92148517.65  2017-06-28         7353  INE748C01020  \n",
       "2   13460.55       2290  30304923.35  2017-06-28          748  INE470A01017  \n",
       "3      60.65      27701   1689421.00  2017-06-28          437  INE111B01023  \n",
       "4     547.45      79722  43208620.05  2017-06-28         1866  INE650K01021  "
      ]
     },
     "execution_count": 3,
     "metadata": {},
     "output_type": "execute_result"
    }
   ],
   "source": [
    "data.head()"
   ]
  },
  {
   "cell_type": "code",
   "execution_count": 4,
   "metadata": {},
   "outputs": [
    {
     "data": {
      "text/plain": [
       "<bound method Series.unique of 0          20MICRONS\n",
       "1         3IINFOTECH\n",
       "2            3MINDIA\n",
       "3            63MOONS\n",
       "4            8KMILES\n",
       "5           A2ZINFRA\n",
       "6         AARTIDRUGS\n",
       "7           AARTIIND\n",
       "8          AARVEEDEN\n",
       "9               ABAN\n",
       "10               ABB\n",
       "11        ABBOTINDIA\n",
       "12             ABFRL\n",
       "13           ABGSHIP\n",
       "14        ABIRLANUVO\n",
       "15         ABMINTLTD\n",
       "16               ACC\n",
       "17           ACCELYA\n",
       "18               ACE\n",
       "19          ADANIENT\n",
       "20        ADANIPORTS\n",
       "21        ADANIPOWER\n",
       "22        ADANITRANS\n",
       "23          ADFFOODS\n",
       "24           ADHUNIK\n",
       "25        ADHUNIKIND\n",
       "26            ADLABS\n",
       "27          ADORWELD\n",
       "28              ADSL\n",
       "29        ADVANIHOTR\n",
       "             ...    \n",
       "846374    WINDMACHIN\n",
       "846375       WINSOME\n",
       "846376          WIPL\n",
       "846377         WIPRO\n",
       "846378    WOCKPHARMA\n",
       "846379      WONDERLA\n",
       "846380         WORTH\n",
       "846381           WSI\n",
       "846382    WSTCSTPAPR\n",
       "846383     XCHANGING\n",
       "846384      XLENERGY\n",
       "846385     XPROINDIA\n",
       "846386       YESBANK\n",
       "846387    ZANDUREALT\n",
       "846388          ZEEL\n",
       "846389          ZEEL\n",
       "846390      ZEELEARN\n",
       "846391      ZEEMEDIA\n",
       "846392    ZENITHEXPO\n",
       "846393    ZENSARTECH\n",
       "846394        ZENTEC\n",
       "846395         ZICOM\n",
       "846396        ZODIAC\n",
       "846397    ZODIACLOTH\n",
       "846398     ZODJRDMKJ\n",
       "846399          ZOTA\n",
       "846400         ZUARI\n",
       "846401     ZUARIGLOB\n",
       "846402     ZYDUSWELL\n",
       "846403         ZYLOG\n",
       "Name: SYMBOL, Length: 846404, dtype: object>"
      ]
     },
     "execution_count": 4,
     "metadata": {},
     "output_type": "execute_result"
    }
   ],
   "source": [
    "data.SYMBOL.unique"
   ]
  },
  {
   "cell_type": "code",
   "execution_count": 5,
   "metadata": {},
   "outputs": [
    {
     "data": {
      "text/plain": [
       "SRTRANSFIN    4709\n",
       "IDFCBANK      4379\n",
       "IRFC          4362\n",
       "NHAI          3360\n",
       "RECLTD        2919\n",
       "L&TINFRA      2760\n",
       "DHFL          2707\n",
       "NTPC          2678\n",
       "ECLFINANCE    2367\n",
       "IIFLFIN       2294\n",
       "HUDCO         2165\n",
       "SREINFRA      2099\n",
       "IFCI          2093\n",
       "SBIN          1589\n",
       "MUTHOOTFIN    1459\n",
       "SHRIRAMCIT    1447\n",
       "IBULHSGFIN    1309\n",
       "IIHFL         1228\n",
       "BLUEDART      1226\n",
       "SREIBNPNCD    1161\n",
       "NHPC          1055\n",
       "JSWSTEEL       998\n",
       "ZEEL           982\n",
       "PFC            966\n",
       "EHFLNCD        927\n",
       "HDFC           897\n",
       "RHFL           867\n",
       "RELIFIN        799\n",
       "MUKANDLTD      765\n",
       "UPL            728\n",
       "              ... \n",
       "SDAFXIXGR        2\n",
       "WB3RD            2\n",
       "BSLRGES1RG       2\n",
       "UTRGRXIX20       1\n",
       "BSLFTPLVDG       1\n",
       "KAWIRES          1\n",
       "VF1RG            1\n",
       "H1309S37RQ       1\n",
       "SMCSRIIIRD       1\n",
       "IPRU2288         1\n",
       "IPRU2660         1\n",
       "UTIFEFRDP1       1\n",
       "DWSFMP64RG       1\n",
       "VF1RD            1\n",
       "CLASSIC          1\n",
       "ICICI0202        1\n",
       "IDR1AGD          1\n",
       "UTCPOSRGR1       1\n",
       "ASTRON           1\n",
       "M17RD            1\n",
       "SGBDEC2512       1\n",
       "IPRU2691         1\n",
       "HHOF1140RG       1\n",
       "HRGESSRG1        1\n",
       "IPRU2262         1\n",
       "SDAFIIIGR        1\n",
       "CP7RG            1\n",
       "IPRU2814         1\n",
       "ICICI0901        1\n",
       "AXISSCRGP        1\n",
       "Name: SYMBOL, Length: 2037, dtype: int64"
      ]
     },
     "execution_count": 5,
     "metadata": {},
     "output_type": "execute_result"
    }
   ],
   "source": [
    "data.SYMBOL.value_counts()"
   ]
  },
  {
   "cell_type": "code",
   "execution_count": 6,
   "metadata": {},
   "outputs": [
    {
     "data": {
      "text/plain": [
       "Index(['SYMBOL', 'SERIES', 'OPEN', 'HIGH', 'LOW', 'CLOSE', 'LAST', 'PREVCLOSE',\n",
       "       'TOTTRDQTY', 'TOTTRDVAL', 'TIMESTAMP', 'TOTALTRADES', 'ISIN'],\n",
       "      dtype='object')"
      ]
     },
     "execution_count": 6,
     "metadata": {},
     "output_type": "execute_result"
    }
   ],
   "source": [
    "data.columns"
   ]
  },
  {
   "cell_type": "code",
   "execution_count": 7,
   "metadata": {},
   "outputs": [
    {
     "data": {
      "text/plain": [
       "dtype('O')"
      ]
     },
     "execution_count": 7,
     "metadata": {},
     "output_type": "execute_result"
    }
   ],
   "source": [
    "data['TIMESTAMP'].dtype"
   ]
  },
  {
   "cell_type": "code",
   "execution_count": 8,
   "metadata": {},
   "outputs": [],
   "source": [
    "data['TIMESTAMP'] = pd.to_datetime(data['TIMESTAMP'])"
   ]
  },
  {
   "cell_type": "code",
   "execution_count": 9,
   "metadata": {},
   "outputs": [
    {
     "data": {
      "text/plain": [
       "<matplotlib.axes._subplots.AxesSubplot at 0x102d55198>"
      ]
     },
     "execution_count": 9,
     "metadata": {},
     "output_type": "execute_result"
    },
    {
     "data": {
      "image/png": "[encoded data removed]",
      "text/plain": [
       "<Figure size 720x576 with 1 Axes>"
      ]
     },
     "metadata": {
      "needs_background": "light"
     },
     "output_type": "display_data"
    }
   ],
   "source": [
    "data['TIMESTAMP'].plot(figsize=(10,8))"
   ]
  },
  {
   "cell_type": "code",
   "execution_count": 10,
   "metadata": {},
   "outputs": [
    {
     "data": {
      "text/plain": [
       "count    846404.000000\n",
       "mean        560.815168\n",
       "std        2004.576315\n",
       "min           0.050000\n",
       "25%          39.750000\n",
       "50%         138.900000\n",
       "75%         489.550000\n",
       "max      119990.000000\n",
       "Name: CLOSE, dtype: float64"
      ]
     },
     "execution_count": 10,
     "metadata": {},
     "output_type": "execute_result"
    }
   ],
   "source": [
    "data.CLOSE.describe()"
   ]
  },
  {
   "cell_type": "code",
   "execution_count": 11,
   "metadata": {},
   "outputs": [
    {
     "data": {
      "text/plain": [
       "Index(['SYMBOL', 'SERIES', 'OPEN', 'HIGH', 'LOW', 'CLOSE', 'LAST', 'PREVCLOSE',\n",
       "       'TOTTRDQTY', 'TOTTRDVAL', 'TIMESTAMP', 'TOTALTRADES', 'ISIN'],\n",
       "      dtype='object')"
      ]
     },
     "execution_count": 11,
     "metadata": {},
     "output_type": "execute_result"
    }
   ],
   "source": [
    "data.columns"
   ]
  },
  {
   "cell_type": "code",
   "execution_count": 12,
   "metadata": {},
   "outputs": [],
   "source": [
    "data.set_index('TIMESTAMP', inplace=True)"
   ]
  },
  {
   "cell_type": "code",
   "execution_count": 13,
   "metadata": {},
   "outputs": [
    {
     "data": {
      "text/html": [
       "<div>\n",
       "<style scoped>\n",
       "    .dataframe tbody tr th:only-of-type {\n",
       "        vertical-align: middle;\n",
       "    }\n",
       "\n",
       "    .dataframe tbody tr th {\n",
       "        vertical-align: top;\n",
       "    }\n",
       "\n",
       "    .dataframe thead th {\n",
       "        text-align: right;\n",
       "    }\n",
       "</style>\n",
       "<table border=\"1\" class=\"dataframe\">\n",
       "  <thead>\n",
       "    <tr style=\"text-align: right;\">\n",
       "      <th></th>\n",
       "      <th>SYMBOL</th>\n",
       "      <th>SERIES</th>\n",
       "      <th>OPEN</th>\n",
       "      <th>HIGH</th>\n",
       "      <th>LOW</th>\n",
       "      <th>CLOSE</th>\n",
       "      <th>LAST</th>\n",
       "      <th>PREVCLOSE</th>\n",
       "      <th>TOTTRDQTY</th>\n",
       "      <th>TOTTRDVAL</th>\n",
       "      <th>TOTALTRADES</th>\n",
       "      <th>ISIN</th>\n",
       "    </tr>\n",
       "    <tr>\n",
       "      <th>TIMESTAMP</th>\n",
       "      <th></th>\n",
       "      <th></th>\n",
       "      <th></th>\n",
       "      <th></th>\n",
       "      <th></th>\n",
       "      <th></th>\n",
       "      <th></th>\n",
       "      <th></th>\n",
       "      <th></th>\n",
       "      <th></th>\n",
       "      <th></th>\n",
       "      <th></th>\n",
       "    </tr>\n",
       "  </thead>\n",
       "  <tbody>\n",
       "    <tr>\n",
       "      <th>2017-06-28</th>\n",
       "      <td>20MICRONS</td>\n",
       "      <td>EQ</td>\n",
       "      <td>37.80</td>\n",
       "      <td>37.80</td>\n",
       "      <td>36.15</td>\n",
       "      <td>36.85</td>\n",
       "      <td>37.40</td>\n",
       "      <td>37.05</td>\n",
       "      <td>27130</td>\n",
       "      <td>994657.90</td>\n",
       "      <td>202</td>\n",
       "      <td>INE144J01027</td>\n",
       "    </tr>\n",
       "    <tr>\n",
       "      <th>2017-06-28</th>\n",
       "      <td>3IINFOTECH</td>\n",
       "      <td>EQ</td>\n",
       "      <td>4.10</td>\n",
       "      <td>4.85</td>\n",
       "      <td>4.00</td>\n",
       "      <td>4.55</td>\n",
       "      <td>4.65</td>\n",
       "      <td>4.05</td>\n",
       "      <td>20157058</td>\n",
       "      <td>92148517.65</td>\n",
       "      <td>7353</td>\n",
       "      <td>INE748C01020</td>\n",
       "    </tr>\n",
       "    <tr>\n",
       "      <th>2017-06-28</th>\n",
       "      <td>3MINDIA</td>\n",
       "      <td>EQ</td>\n",
       "      <td>13425.15</td>\n",
       "      <td>13469.55</td>\n",
       "      <td>12920.00</td>\n",
       "      <td>13266.70</td>\n",
       "      <td>13300.00</td>\n",
       "      <td>13460.55</td>\n",
       "      <td>2290</td>\n",
       "      <td>30304923.35</td>\n",
       "      <td>748</td>\n",
       "      <td>INE470A01017</td>\n",
       "    </tr>\n",
       "    <tr>\n",
       "      <th>2017-06-28</th>\n",
       "      <td>63MOONS</td>\n",
       "      <td>EQ</td>\n",
       "      <td>61.00</td>\n",
       "      <td>61.90</td>\n",
       "      <td>60.35</td>\n",
       "      <td>61.00</td>\n",
       "      <td>61.10</td>\n",
       "      <td>60.65</td>\n",
       "      <td>27701</td>\n",
       "      <td>1689421.00</td>\n",
       "      <td>437</td>\n",
       "      <td>INE111B01023</td>\n",
       "    </tr>\n",
       "    <tr>\n",
       "      <th>2017-06-28</th>\n",
       "      <td>8KMILES</td>\n",
       "      <td>EQ</td>\n",
       "      <td>546.10</td>\n",
       "      <td>548.00</td>\n",
       "      <td>535.00</td>\n",
       "      <td>537.45</td>\n",
       "      <td>535.20</td>\n",
       "      <td>547.45</td>\n",
       "      <td>79722</td>\n",
       "      <td>43208620.05</td>\n",
       "      <td>1866</td>\n",
       "      <td>INE650K01021</td>\n",
       "    </tr>\n",
       "  </tbody>\n",
       "</table>\n",
       "</div>"
      ],
      "text/plain": [
       "                SYMBOL SERIES      OPEN      HIGH       LOW     CLOSE  \\\n",
       "TIMESTAMP                                                               \n",
       "2017-06-28   20MICRONS     EQ     37.80     37.80     36.15     36.85   \n",
       "2017-06-28  3IINFOTECH     EQ      4.10      4.85      4.00      4.55   \n",
       "2017-06-28     3MINDIA     EQ  13425.15  13469.55  12920.00  13266.70   \n",
       "2017-06-28     63MOONS     EQ     61.00     61.90     60.35     61.00   \n",
       "2017-06-28     8KMILES     EQ    546.10    548.00    535.00    537.45   \n",
       "\n",
       "                LAST  PREVCLOSE  TOTTRDQTY    TOTTRDVAL  TOTALTRADES  \\\n",
       "TIMESTAMP                                                              \n",
       "2017-06-28     37.40      37.05      27130    994657.90          202   \n",
       "2017-06-28      4.65       4.05   20157058  92148517.65         7353   \n",
       "2017-06-28  13300.00   13460.55       2290  30304923.35          748   \n",
       "2017-06-28     61.10      60.65      27701   1689421.00          437   \n",
       "2017-06-28    535.20     547.45      79722  43208620.05         1866   \n",
       "\n",
       "                    ISIN  \n",
       "TIMESTAMP                 \n",
       "2017-06-28  INE144J01027  \n",
       "2017-06-28  INE748C01020  \n",
       "2017-06-28  INE470A01017  \n",
       "2017-06-28  INE111B01023  \n",
       "2017-06-28  INE650K01021  "
      ]
     },
     "execution_count": 13,
     "metadata": {},
     "output_type": "execute_result"
    }
   ],
   "source": [
    "data.head()"
   ]
  },
  {
   "cell_type": "code",
   "execution_count": 14,
   "metadata": {},
   "outputs": [],
   "source": [
    "data.drop('ISIN', 1, inplace=True)"
   ]
  },
  {
   "cell_type": "code",
   "execution_count": 16,
   "metadata": {},
   "outputs": [
    {
     "data": {
      "text/plain": [
       "EQ    739199\n",
       "BE     37428\n",
       "SM     11229\n",
       "N6      5080\n",
       "N2      4828\n",
       "N4      3722\n",
       "N5      3661\n",
       "N1      3576\n",
       "N3      3098\n",
       "N8      2884\n",
       "BZ      2825\n",
       "GB      2343\n",
       "N9      2021\n",
       "N7      1658\n",
       "NE      1602\n",
       "NB      1467\n",
       "NC      1195\n",
       "ND      1046\n",
       "P2       923\n",
       "NJ       851\n",
       "NL       826\n",
       "NF       716\n",
       "NO       544\n",
       "NH       506\n",
       "DR       495\n",
       "NI       477\n",
       "NW       476\n",
       "MF       473\n",
       "NK       471\n",
       "NZ       452\n",
       "       ...  \n",
       "Q1       298\n",
       "NS       266\n",
       "Y8       257\n",
       "Y3       239\n",
       "YB       230\n",
       "Y7       227\n",
       "BL       227\n",
       "Y2       212\n",
       "IL       205\n",
       "NM       198\n",
       "YA       197\n",
       "NV       183\n",
       "Y6       151\n",
       "YG       130\n",
       "NY       120\n",
       "NT       120\n",
       "YC       107\n",
       "NR        86\n",
       "Y4        77\n",
       "Y5        77\n",
       "YD        60\n",
       "D1        48\n",
       "Q2        30\n",
       "HC        20\n",
       "NQ        19\n",
       "H6         7\n",
       "HB         7\n",
       "HE         1\n",
       "HA         1\n",
       "BT         1\n",
       "Name: SERIES, Length: 71, dtype: int64"
      ]
     },
     "execution_count": 16,
     "metadata": {},
     "output_type": "execute_result"
    }
   ],
   "source": [
    "data.SERIES.value_counts()"
   ]
  },
  {
   "cell_type": "code",
   "execution_count": 18,
   "metadata": {},
   "outputs": [
    {
     "name": "stdout",
     "output_type": "stream",
     "text": [
      "\n",
      "number of different stocks:  2037\n",
      "['ALLSEC', 'MADHAV', 'IPRU2599', 'HINDDORROL', 'SELMCL', 'UFLEX', 'WALCHANNAG', 'AKSHOPTFBR', 'KHAITANELE', 'UCALFUEL', 'KIRIINDUS', 'UNITEDPOLY', 'BSLRGES1RG', 'RCF', 'LUPIN', 'HEG', 'MANDHANA', 'GTNIND', 'APLLTD', 'JPINFRATEC', 'MELSTAR', 'BHAGERIA', 'POLYPLEX', 'ARVIND', 'UNIENTER', 'PENINLAND', 'SURYALAXMI', 'PLASTIBLEN', 'CYBERMEDIA', 'JETFREIGHT', 'FINANTECH', 'MAHESHWARI', 'ESTER', 'BANG', 'TULSI', 'ARROWCOAT', 'TNTELE', 'RBLBANK', 'H1190M36RQ', 'ABIRLANUVO', 'BALPHARMA', 'GAEL', 'FCEL', 'RANEENGINE', 'FEDDERELEC', 'GRASIM', 'NEYVELILIG', 'HUSYSLTD', 'WILLAMAGOR', 'CUPID', 'USHERAGRO', 'EIHAHOTELS', 'KSCL', 'OCL', 'IVC', 'SGBDEC25XI', 'PIONEEREMB', 'CINEVISTA', 'LTTS', 'HDFCSENETF', 'SEPOWER', 'MIRCELECTR', 'BIOCON', 'BLUECOAST', 'BHARATWIRE', 'PATSPINLTD', 'SUMEETINDS', 'GARDENSILK', 'CAPLIPOINT', 'BEDMUTHA', 'PFC', 'RELIABLE', 'AGCNET', 'DHANUKA', 'MYSOREBANK', 'RAJTV', 'SURANAT&P', 'INDOSOLAR', 'POWERMECH', 'THEMISMED', 'AKASH', 'ELECTCAST', 'BPCL', 'PTL', 'BHAGYANGR', 'LGBFORGE', 'COLPAL', 'ADVENZYMES', 'PATINTLOG', 'ESABINDIA', 'IVZINGOLD', 'GSPL', 'ASAHIINDIA', 'SORILHOLD', 'HEROMOTOCO', 'BFINVEST', 'ALPSINDUS', 'IRB', 'SHAIVAL', 'ORIENTABRA']\n"
     ]
    }
   ],
   "source": [
    "print('\\nnumber of different stocks: ', len(list(set(data.SYMBOL))))\n",
    "print(list(set(data.SYMBOL))[:100])"
   ]
  },
  {
   "cell_type": "code",
   "execution_count": 19,
   "metadata": {},
   "outputs": [
    {
     "data": {
      "text/plain": [
       "SYMBOL            0\n",
       "SERIES         2457\n",
       "OPEN              0\n",
       "HIGH              0\n",
       "LOW               0\n",
       "CLOSE             0\n",
       "LAST              0\n",
       "PREVCLOSE         0\n",
       "TOTTRDQTY         0\n",
       "TOTTRDVAL         0\n",
       "TOTALTRADES       0\n",
       "dtype: int64"
      ]
     },
     "execution_count": 19,
     "metadata": {},
     "output_type": "execute_result"
    }
   ],
   "source": [
    "data.isnull().sum()"
   ]
  },
  {
   "cell_type": "code",
   "execution_count": 49,
   "metadata": {},
   "outputs": [
    {
     "data": {
      "text/plain": [
       "<matplotlib.legend.Legend at 0x1ac953d30>"
      ]
     },
     "execution_count": 49,
     "metadata": {},
     "output_type": "execute_result"
    },
    {
     "data": {
      "image/png": "[encoded data removed]",
      "text/plain": [
       "<Figure size 1440x1080 with 1 Axes>"
      ]
     },
     "metadata": {
      "needs_background": "light"
     },
     "output_type": "display_data"
    }
   ],
   "source": [
    "import matplotlib.pyplot as plt\n",
    "plt.figure(figsize=(20, 15));\n",
    "plt.subplot(1,2,1);\n",
    "plt.plot(data[data.SERIES == 'EQ'].HIGH.values, color='black', label='high')\n",
    "plt.plot(data[data.SERIES == 'EQ'].OPEN.values, color='red', label='open')\n",
    "plt.plot(data[data.SERIES == 'EQ'].CLOSE.values, color='green', label='close')\n",
    "plt.plot(data[data.SERIES == 'EQ'].LOW.values, color='blue', label='low')\n",
    "\n",
    "plt.title('stock price')\n",
    "plt.xlabel('time [days]')\n",
    "plt.ylabel('price')\n",
    "plt.legend(loc='best')"
   ]
  },
  {
   "cell_type": "code",
   "execution_count": 45,
   "metadata": {},
   "outputs": [],
   "source": [
    "import sklearn\n",
    "from sklearn.preprocessing import MinMaxScaler\n",
    "def normalize_data(df):\n",
    "    min_max_scaler =MinMaxScaler()\n",
    "    df['OPEN'] = min_max_scaler.fit_transform(df.OPEN.values.reshape(-1,1))\n",
    "    df['HIGH'] = min_max_scaler.fit_transform(df.HIGH.values.reshape(-1,1))\n",
    "    df['LOW'] = min_max_scaler.fit_transform(df.LOW.values.reshape(-1,1))\n",
    "    df['CLOSE'] = min_max_scaler.fit_transform(df['CLOSE'].values.reshape(-1,1))\n",
    "    return df"
   ]
  },
  {
   "cell_type": "code",
   "execution_count": 47,
   "metadata": {},
   "outputs": [],
   "source": [
    "data = normalize_data(data)"
   ]
  },
  {
   "cell_type": "code",
   "execution_count": 53,
   "metadata": {},
   "outputs": [],
   "source": [
    "import numpy as np\n",
    "def load_data(stock, seq_len):\n",
    "    data_raw = stock.as_matrix() # convert to numpy array\n",
    "    data = []\n",
    "    \n",
    "    # create all possible sequences of length seq_len\n",
    "    for index in range(len(data_raw) - seq_len): \n",
    "        data.append(data_raw[index: index + seq_len])\n",
    "    \n",
    "    data = np.array(data);\n",
    "    valid_set_size = int(np.round(valid_set_size_percentage/100*data.shape[0]));  \n",
    "    test_set_size = int(np.round(test_set_size_percentage/100*data.shape[0]));\n",
    "    train_set_size = data.shape[0] - (valid_set_size + test_set_size);\n",
    "    \n",
    "    x_train = data[:train_set_size,:-1,:]\n",
    "    y_train = data[:train_set_size,-1,:]\n",
    "    \n",
    "    x_valid = data[train_set_size:train_set_size+valid_set_size,:-1,:]\n",
    "    y_valid = data[train_set_size:train_set_size+valid_set_size,-1,:]\n",
    "    \n",
    "    x_test = data[train_set_size+valid_set_size:,:-1,:]\n",
    "    y_test = data[train_set_size+valid_set_size:,-1,:]\n",
    "    \n",
    "    return [x_train, y_train, x_valid, y_valid, x_test, y_test]"
   ]
  },
  {
   "cell_type": "code",
   "execution_count": 54,
   "metadata": {},
   "outputs": [],
   "source": [
    "data_eq = data[data.SERIES=='EQ'].copy()"
   ]
  },
  {
   "cell_type": "code",
   "execution_count": 60,
   "metadata": {},
   "outputs": [
    {
     "data": {
      "text/plain": [
       "739199"
      ]
     },
     "execution_count": 60,
     "metadata": {},
     "output_type": "execute_result"
    }
   ],
   "source": [
    "len(data_eq)"
   ]
  },
  {
   "cell_type": "code",
   "execution_count": 59,
   "metadata": {},
   "outputs": [
    {
     "data": {
      "text/plain": [
       "739198"
      ]
     },
     "execution_count": 59,
     "metadata": {},
     "output_type": "execute_result"
    }
   ],
   "source": [
    "int(len(data_eq)*0.2) + int(len(data_eq)*0.8)"
   ]
  },
  {
   "cell_type": "code",
   "execution_count": 63,
   "metadata": {},
   "outputs": [],
   "source": [
    "def splits(data, len_):\n",
    "    testing = int(len(data)*len_)\n",
    "    training = int(len(data)*(1-len_))\n",
    "    return training, testing"
   ]
  },
  {
   "cell_type": "code",
   "execution_count": 64,
   "metadata": {},
   "outputs": [
    {
     "data": {
      "text/plain": [
       "(591359, 147839)"
      ]
     },
     "execution_count": 64,
     "metadata": {},
     "output_type": "execute_result"
    }
   ],
   "source": [
    "splits(data_eq, 0.2)"
   ]
  },
  {
   "cell_type": "code",
   "execution_count": null,
   "metadata": {},
   "outputs": [],
   "source": []
  }
 ],
 "metadata": {
  "kernelspec": {
   "display_name": "Python 3",
   "language": "python",
   "name": "python3"
  },
  "language_info": {
   "codemirror_mode": {
    "name": "ipython",
    "version": 3
   },
   "file_extension": ".py",
   "mimetype": "text/x-python",
   "name": "python",
   "nbconvert_exporter": "python",
   "pygments_lexer": "ipython3",
   "version": "3.7.3"
  }
 },
 "nbformat": 4,
 "nbformat_minor": 2
}
